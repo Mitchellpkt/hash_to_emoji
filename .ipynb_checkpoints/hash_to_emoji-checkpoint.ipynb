{
 "cells": [
  {
   "cell_type": "markdown",
   "metadata": {},
   "source": [
    "# hash_to_emoji\n",
    "Mitchell / Isthmus - July 2020"
   ]
  },
  {
   "cell_type": "markdown",
   "metadata": {},
   "source": [
    "## Import libraries"
   ]
  },
  {
   "cell_type": "code",
   "execution_count": 1,
   "metadata": {},
   "outputs": [],
   "source": [
    "#!pip install emoji\n",
    "import emoji\n",
    "import hashlib"
   ]
  },
  {
   "cell_type": "markdown",
   "metadata": {},
   "source": [
    "## Inputs"
   ]
  },
  {
   "cell_type": "code",
   "execution_count": 2,
   "metadata": {},
   "outputs": [],
   "source": [
    "message_to_hash = 'some prediction for the future'"
   ]
  },
  {
   "cell_type": "markdown",
   "metadata": {},
   "source": [
    "## Process\n",
    "### Calculate hash\n",
    "You can easily swap in different algorithms from hashlib"
   ]
  },
  {
   "cell_type": "code",
   "execution_count": 3,
   "metadata": {},
   "outputs": [],
   "source": [
    "raw_hash = hashlib.sha256(message_to_hash.encode()).hexdigest()"
   ]
  },
  {
   "cell_type": "markdown",
   "metadata": {},
   "source": [
    "### Convert alphanumeric hash to emoji set"
   ]
  },
  {
   "cell_type": "code",
   "execution_count": 4,
   "metadata": {},
   "outputs": [],
   "source": [
    "mapping = {\n",
    "\"0\":\":skull:\",\n",
    "\"1\":\":umbrella:\",\n",
    "\"2\":\":cloud:\",\n",
    "\"3\":\":snowflake:\",\n",
    "\"4\":\":snowman:\",\n",
    "\"5\":\":trumpet:\",\n",
    "\"6\":\":cyclone:\",\n",
    "\"7\":\":foggy:\",\n",
    "\"8\":\":eyes:\",\n",
    "\"9\":\":cat:\",\n",
    "\"a\":\":dog:\",\n",
    "\"b\":\":mouse:\",\n",
    "\"c\":\":bell:\",\n",
    "\"d\":\":rabbit:\",\n",
    "\"e\":\":envelope:\",\n",
    "\"f\":\":thumbs_up:\"\n",
    "}"
   ]
  },
  {
   "cell_type": "code",
   "execution_count": 5,
   "metadata": {},
   "outputs": [],
   "source": [
    "output_vec = str()\n",
    "for i in range(len(raw_hash)):\n",
    "    this_char = raw_hash[i]\n",
    "    output_vec = output_vec + mapping[this_char]"
   ]
  },
  {
   "cell_type": "markdown",
   "metadata": {},
   "source": [
    "## Provide output"
   ]
  },
  {
   "cell_type": "code",
   "execution_count": 8,
   "metadata": {},
   "outputs": [
    {
     "name": "stdout",
     "output_type": "stream",
     "text": [
      "\n",
      "Hash digest:\n",
      "\n",
      "🐇🐈☁❄☃☃🌁🐕🌀💀☃🌁🎺🐕☃🐁✉👀🌁👀🌀🌀🐕🐁☁☃🌀☃🐈👀👍🐇☃🐈🎺🐕☂☃🐈🐇🐇❄🔔🐇❄💀☁🐇🐇☂👍☁🐕☁🔔💀🐈👍👍❄🐇🌀☃💀\n"
     ]
    }
   ],
   "source": [
    "emoji_str = emoji.emojize(output_vec)\n",
    "print(emoji.emojize('\\nHash digest:\\n\\n' + emoji_str))"
   ]
  },
  {
   "cell_type": "code",
   "execution_count": null,
   "metadata": {},
   "outputs": [],
   "source": []
  }
 ],
 "metadata": {
  "kernelspec": {
   "display_name": "Python 3",
   "language": "python",
   "name": "python3"
  },
  "language_info": {
   "codemirror_mode": {
    "name": "ipython",
    "version": 3
   },
   "file_extension": ".py",
   "mimetype": "text/x-python",
   "name": "python",
   "nbconvert_exporter": "python",
   "pygments_lexer": "ipython3",
   "version": "3.7.3"
  }
 },
 "nbformat": 4,
 "nbformat_minor": 2
}
