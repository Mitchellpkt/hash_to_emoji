{
 "cells": [
  {
   "cell_type": "markdown",
   "metadata": {},
   "source": [
    "# hash_to_emoji\n",
    "Mitchell / Isthmus - July 2020\n",
    "\n",
    "Twitter recently applied a filter that appears to block any tweets containing alphanumeric strings longer than 26 characters. Unfortunately this includes hash digests (among many other use cases).\n",
    "\n",
    "This inspired the latest cryptographic stenographic innovation for censorship resistance: `hash_to_emoji`\n",
    " \n",
    "### Example\n",
    "\n",
    "Input: `some prediction for the future`\n",
    "\n",
    "Output: 🐇🐈☁❄☃☃🌁🐕🌀💀☃🌁🎺🐕☃🐁✉👀🌁👀🌀🌀🐕🐁☁☃🌀☃🐈👀👍🐇☃🐈🎺🐕☂☃🐈🐇🐇❄🔔🐇❄💀☁🐇🐇☂👍☁🐕☁🔔💀🐈👍👍❄🐇🌀☃💀\n",
    "\n",
    "### Notes \n",
    "\n",
    "-  The 1:1 mapping from hex representation digit to emoji is painfully inefficient. Shorter final digests could be produced by using more characters from the large emoji set. \n",
    "-  A possible extension would be an efficient (bidirectional) translation between arbitrary data blobs and emoji strings. (Silly example: can't access a p2p blockchain network to broadcast your transaction? Just convert it to an emoji string and tweet at @xyzGateway to be added to the main mempool)"
   ]
  },
  {
   "cell_type": "markdown",
   "metadata": {},
   "source": [
    "## Import libraries"
   ]
  },
  {
   "cell_type": "code",
   "execution_count": 1,
   "metadata": {},
   "outputs": [],
   "source": [
    "#!pip install emoji\n",
    "import emoji\n",
    "import hashlib"
   ]
  },
  {
   "cell_type": "markdown",
   "metadata": {},
   "source": [
    "## Inputs"
   ]
  },
  {
   "cell_type": "code",
   "execution_count": 2,
   "metadata": {},
   "outputs": [],
   "source": [
    "message_to_hash = 'some prediction for the future'"
   ]
  },
  {
   "cell_type": "markdown",
   "metadata": {},
   "source": [
    "## Process\n",
    "### Calculate hash\n",
    "You can easily swap in different algorithms from hashlib"
   ]
  },
  {
   "cell_type": "code",
   "execution_count": 3,
   "metadata": {},
   "outputs": [],
   "source": [
    "raw_hash = hashlib.sha256(message_to_hash.encode()).hexdigest()"
   ]
  },
  {
   "cell_type": "markdown",
   "metadata": {},
   "source": [
    "### Convert alphanumeric hash to emoji set"
   ]
  },
  {
   "cell_type": "code",
   "execution_count": 4,
   "metadata": {},
   "outputs": [],
   "source": [
    "mapping = {\n",
    "\"0\":\":skull:\",\n",
    "\"1\":\":umbrella:\",\n",
    "\"2\":\":cloud:\",\n",
    "\"3\":\":snowflake:\",\n",
    "\"4\":\":snowman:\",\n",
    "\"5\":\":trumpet:\",\n",
    "\"6\":\":cyclone:\",\n",
    "\"7\":\":foggy:\",\n",
    "\"8\":\":eyes:\",\n",
    "\"9\":\":cat:\",\n",
    "\"a\":\":dog:\",\n",
    "\"b\":\":mouse:\",\n",
    "\"c\":\":bell:\",\n",
    "\"d\":\":rabbit:\",\n",
    "\"e\":\":envelope:\",\n",
    "\"f\":\":thumbs_up:\"\n",
    "}"
   ]
  },
  {
   "cell_type": "code",
   "execution_count": 5,
   "metadata": {},
   "outputs": [],
   "source": [
    "output_vec = str()\n",
    "for i in range(len(raw_hash)):\n",
    "    this_char = raw_hash[i]\n",
    "    output_vec = output_vec + mapping[this_char]"
   ]
  },
  {
   "cell_type": "markdown",
   "metadata": {},
   "source": [
    "## Provide output"
   ]
  },
  {
   "cell_type": "code",
   "execution_count": 6,
   "metadata": {},
   "outputs": [
    {
     "name": "stdout",
     "output_type": "stream",
     "text": [
      "\n",
      "Hash digest:\n",
      "\n",
      "🐇🐈☁❄☃☃🌁🐕🌀💀☃🌁🎺🐕☃🐁✉👀🌁👀🌀🌀🐕🐁☁☃🌀☃🐈👀👍🐇☃🐈🎺🐕☂☃🐈🐇🐇❄🔔🐇❄💀☁🐇🐇☂👍☁🐕☁🔔💀🐈👍👍❄🐇🌀☃💀\n"
     ]
    }
   ],
   "source": [
    "emoji_str = emoji.emojize(output_vec)\n",
    "print(emoji.emojize('\\nHash digest:\\n\\n' + emoji_str))"
   ]
  }
 ],
 "metadata": {
  "kernelspec": {
   "display_name": "Python 3",
   "language": "python",
   "name": "python3"
  },
  "language_info": {
   "codemirror_mode": {
    "name": "ipython",
    "version": 3
   },
   "file_extension": ".py",
   "mimetype": "text/x-python",
   "name": "python",
   "nbconvert_exporter": "python",
   "pygments_lexer": "ipython3",
   "version": "3.7.3"
  }
 },
 "nbformat": 4,
 "nbformat_minor": 2
}
